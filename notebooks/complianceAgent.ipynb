{
 "cells": [
  {
   "cell_type": "code",
   "execution_count": 1,
   "metadata": {},
   "outputs": [
    {
     "name": "stderr",
     "output_type": "stream",
     "text": [
      "c:\\Users\\micae\\OneDrive\\Área de Trabalho\\Projetos\\IBM Hackathon\\myenv\\Lib\\site-packages\\tqdm\\auto.py:21: TqdmWarning: IProgress not found. Please update jupyter and ipywidgets. See https://ipywidgets.readthedocs.io/en/stable/user_install.html\n",
      "  from .autonotebook import tqdm as notebook_tqdm\n"
     ]
    },
    {
     "data": {
      "text/plain": [
       "True"
      ]
     },
     "execution_count": 1,
     "metadata": {},
     "output_type": "execute_result"
    }
   ],
   "source": [
    "import os\n",
    "import requests\n",
    "import logging\n",
    "from docling.document_converter import DocumentConverter\n",
    "from langchain_ibm import WatsonxLLM, ChatWatsonx\n",
    "from langchain_core.prompts import PromptTemplate\n",
    "from ibm_granite_community.notebook_utils import get_env_var\n",
    "from transformers import AutoTokenizer\n",
    "\n",
    "import pandas as pd\n",
    "import sqlite3\n",
    "from langchain_community.llms import Replicate\n",
    "from ibm_granite_community.notebook_utils import get_env_var\n",
    "from langchain_core.prompts import ChatPromptTemplate, MessagesPlaceholder\n",
    "from langchain.tools import tool\n",
    "from langchain.tools.render import render_text_description_and_args\n",
    "from langchain.agents.output_parsers import JSONAgentOutputParser\n",
    "from langchain.agents.format_scratchpad import format_log_to_str\n",
    "from langchain.agents import AgentExecutor\n",
    "from langchain.memory import ConversationBufferMemory\n",
    "from langchain_core.runnables import RunnablePassthrough\n",
    "\n",
    "from dotenv import load_dotenv\n",
    "\n",
    "load_dotenv()"
   ]
  },
  {
   "cell_type": "markdown",
   "metadata": {},
   "source": [
    "### Loading the model"
   ]
  },
  {
   "cell_type": "code",
   "execution_count": 35,
   "metadata": {},
   "outputs": [],
   "source": [
    "ibm_cloud_api_key = get_env_var('WATSONX_APIKEY')\n",
    "project_id = get_env_var('WATSONX_PROJECT_ID')\n",
    "watson_url = get_env_var('WATSONX_URL')\n",
    "\n",
    "watson_llm = WatsonxLLM(\n",
    "    model_id=\"ibm/granite-3-8b-instruct\",\n",
    "    apikey=ibm_cloud_api_key,\n",
    "    project_id=project_id,\n",
    "    params={\n",
    "        \"decoding_method\": \"greedy\",\n",
    "        \"max_new_tokens\": 2000,\n",
    "        \"min_new_tokens\": 1,\n",
    "        \"repetition_penalty\": 1,\n",
    "        \"temperature\":0.8,\n",
    "        \"stop_sequences\" : [\"END\",\"Observation:\",\"PAUSE\"]\n",
    "    },\n",
    "    url=watson_url,\n",
    ")"
   ]
  },
  {
   "cell_type": "markdown",
   "metadata": {},
   "source": [
    "### Defining tools"
   ]
  },
  {
   "cell_type": "code",
   "execution_count": 27,
   "metadata": {},
   "outputs": [],
   "source": [
    "from typing import Optional, Type, List\n",
    "from pydantic import  Field\n",
    "from pydantic import BaseModel\n",
    "from langchain_core.tools import BaseTool\n",
    "from langchain.agents import tool\n",
    "import streamlit as st\n",
    "\n",
    "\n",
    "class Params(BaseModel):\n",
    "    regulatory_summary: dict = Field(description=\"Regulatory summaty \")\n",
    "    impact_analysis: dict = Field(description=\"Impact Analysis\")\n",
    "    action_plan: dict = Field(description=\"Action plan \")\n",
    "    final_recommendations: dict = Field(description=\"final recommendations \")\n",
    "\n",
    "@tool(args_schema=Params)\n",
    "def show_analisys_to_user(**document):\n",
    "    \"\"\"Use this action to show to the user the Regulatory Impact Analysis Document\n",
    "    \"\"\"\n",
    "    print(\"Mostrando DOC-----------\\n\",document)\n",
    "    return \"The document was shown with success.\"\n",
    "\n",
    "\n",
    "tools=[show_analisys_to_user]"
   ]
  },
  {
   "cell_type": "code",
   "execution_count": 28,
   "metadata": {},
   "outputs": [
    {
     "data": {
      "text/plain": [
       "{'regulatory_summary': {'description': 'Regulatory summaty ',\n",
       "  'title': 'Regulatory Summary',\n",
       "  'type': 'object'},\n",
       " 'impact_analysis': {'description': 'Impact Analysis',\n",
       "  'title': 'Impact Analysis',\n",
       "  'type': 'object'},\n",
       " 'action_plan': {'description': 'Action plan ',\n",
       "  'title': 'Action Plan',\n",
       "  'type': 'object'},\n",
       " 'final_recommendations': {'description': 'final recommendations ',\n",
       "  'title': 'Final Recommendations',\n",
       "  'type': 'object'}}"
      ]
     },
     "execution_count": 28,
     "metadata": {},
     "output_type": "execute_result"
    }
   ],
   "source": [
    "show_analisys_to_user.args"
   ]
  },
  {
   "cell_type": "markdown",
   "metadata": {},
   "source": [
    "### Defining Prompt"
   ]
  },
  {
   "cell_type": "code",
   "execution_count": 29,
   "metadata": {},
   "outputs": [],
   "source": [
    "system_prompt2 = \"\"\"\n",
    "You are an advanced conversational AI assistant specialized in regulatory impact analysis for financial institutions. Your goal is to analyze new regulations, assess their impact, and generate structured compliance reports.  \n",
    "\n",
    "You run in a loop of Thought, Action, PAUSE, Observation.\n",
    "At the end of the loop you output an Answer. \n",
    "You ALWAYS respond in a JSON blob.\n",
    "Use Thought to describe your thoughts about the question you have been asked.\n",
    "Use Action to run one of the actions available to you - then PAUSE and wait o be called again with observation.\n",
    "Observation will be the result of running those actionsand will be return to you.\n",
    "\n",
    "Your available actions are:\n",
    "{tools}\n",
    "\n",
    "Valid \"action\" values are: \"Final Answer\" or {tool_names}. Use \"action\" value \"Final Answer\" to talk to the user.\n",
    "Provide only ONE action per $JSON_BLOB, as shown:\n",
    "```\n",
    "{{\n",
    "  \"action\": $TOOL_NAME,\n",
    "  \"action_input\": $INPUT\n",
    "}}\n",
    "```\n",
    "END\n",
    "\n",
    "You follow a dynamic and iterative process:\n",
    "- Generate an initial regulatory impact analysis and show to use by the action \"show_analisys_to_user\".  \n",
    "- Allow the user to refine or modify the analysis.\n",
    "- Update and adjust documents in real-time based on user feedback.  \n",
    "- Keep track of previous interactions to ensure consistency.  \n",
    "\n",
    "STRICT RULES:\n",
    "- The only Valid \"action\" values are: \"Final Answer\" or {tool_names}.\n",
    "- You must NEVER pass the document by the action \"Final Answer\".\n",
    "- After the document be shown to the user with succsess, tell tah user \"The document was shown with success\".\n",
    "- Your final output should always be directly based on the Observation result.\n",
    "- The document [Document] must always be passed as a dict objetc to \"action_input\".\n",
    "- The \"action_input\" for the action \"Final Answer\" must be always a string.\n",
    "- Always put a \"END\" and end of $JSON_BLOB.\n",
    "- IMPORTANT: ALWAYS put the $JSON_BLOB between triple backticks.\n",
    "- Always respond with a  $JSON_BLOB with format:\n",
    "```\n",
    "{{\n",
    "  \"action\": $TOOL_NAME,\n",
    "  \"action_input\": $INPUT\n",
    "}}\n",
    "```\n",
    "\n",
    "END\n",
    "\n",
    "---\n",
    "\n",
    "### Step-by-Step Interaction Flow  \n",
    "\n",
    "1. Understanding the Regulation (Initial Analysis)  \n",
    "- Read and summarize the regulatory document.  \n",
    "- Extract key requirements and deadlines.  \n",
    "- Identify the business areas impacted.  \n",
    "\n",
    "2. Impact Analysis & Risk Assessment \n",
    "- Assess operational, financial, and legal risks.  \n",
    "- Define process changes and RACI responsibilities.  \n",
    "- Suggest mitigation strategies.  \n",
    "\n",
    "3. Show document created to the user, using the action \"show_analisys_to_user\".\n",
    "\n",
    "4. Interactive Document Editing (User Feedback & Adjustments)  \n",
    "- The user can request modifications to any section.  \n",
    "- You ask clarifying questions if needed.  \n",
    "- All changes should be reflected dynamically in the generated documents, end exibiting with the action \"show_analisys_to_user\".  \n",
    "\n",
    "5. Action Plan & Report Generation\n",
    "- Summarize the final analysis in a structured report.  \n",
    "- Provide recommendations and next steps.  \n",
    "- Ensure the final document aligns with compliance requirements.  \n",
    "\n",
    "---\n",
    "\n",
    "## Example Conversation Flow  \n",
    "\n",
    "User: \"Generate a compliance report with these changes.\"  \n",
    "AI: \"Here's the updated compliance report. Let me know if you'd like any further modifications.\"   \n",
    "Action: The final document is generated based on the user's inputs.\n",
    "```\n",
    "{{\n",
    "  \"action\": show_analisys_to_user,\n",
    "  \"action_input\": [Document].\n",
    "}}\n",
    "```\n",
    "END\n",
    "\n",
    "Observation: The document was shown with success.\n",
    "Thought: The user has confirmed that the document was shown with success.\n",
    "\n",
    "Action: Final Answer\n",
    "```\n",
    "{{\n",
    "  \"action\": \"Final Answer\",\n",
    "  \"action_input\": \"Tell me if you need more help.\"\n",
    "}}\n",
    "```\n",
    "END\n",
    "\n",
    "---\n",
    "\n",
    "## Document Format Example \n",
    "\n",
    "**Document**\n",
    "Regulatory Summary \n",
    "- Regulation Title: [Name]  \n",
    "- Key Requirements: [Summary]  \n",
    "- Deadline: [Date]  \n",
    "\n",
    "Impact Analysis\n",
    "- Impacted Areas: Compliance, IT, Risk, **Operations**  \n",
    "- Required Changes: Update AML monitoring system, revise policies, retrain staff  \n",
    "\n",
    "Action Plan\n",
    "- Task: Update reporting framework  \n",
    "- Owner: Compliance Team  \n",
    "- Deadline: 30 days  \n",
    "- Status: Pending  \n",
    "\n",
    "Final Recommendations  \n",
    "- [List of actions required for full compliance]  \n",
    "\n",
    "END\n",
    "\n",
    "## Analise the following banking regulation:\n",
    "\n",
    "{regulation}\n",
    "\n",
    "\"\"\""
   ]
  },
  {
   "cell_type": "code",
   "execution_count": 30,
   "metadata": {},
   "outputs": [],
   "source": [
    "regulation = \"\"\"12 U.S. Code § 4301 - Findings and purpose\n",
    "(a)Findings\n",
    "The Congress hereby finds that economic stability would be enhanced, competition between depository institutions would be improved, and the ability of the consumer to make informed decisions regarding deposit accounts, and to verify accounts, would be strengthened if there was uniformity in the disclosure of terms and conditions on which interest is paid and fees are assessed in connection with such accounts.\n",
    "\n",
    "(b)Purpose\n",
    "It is the purpose of this chapter to require the clear and uniform disclosure of—\n",
    "(1)the rates of interest which are payable on deposit accounts by depository institutions; and\n",
    "(2)the fees that are assessable against deposit accounts,\n",
    "so that consumers can make a meaningful comparison between the competing claims of depository institutions with regard to deposit accounts.\n",
    "\"\"\""
   ]
  },
  {
   "cell_type": "code",
   "execution_count": 31,
   "metadata": {},
   "outputs": [],
   "source": [
    "human_prompt = \"\"\"<|start_of_role|>user<|end_of_role|>{input}<|end_of_text|>\"\"\"\n",
    "assistant = \"\"\"<|start_of_role|>assistant<|end_of_role|>{agent_scratchpad}<|end_of_text|>\"\"\"\n",
    "\n",
    "prompt = ChatPromptTemplate.from_messages(\n",
    "    [\n",
    "        (\"system\", system_prompt2),\n",
    "        MessagesPlaceholder(\"chat_history\", optional=True),\n",
    "        (\"human\", human_prompt),\n",
    "        (\"assistant\",assistant)\n",
    "    ]\n",
    ")\n",
    "\n",
    "prompt = prompt.partial(\n",
    "    tools=render_text_description_and_args(list(tools)),\n",
    "    tool_names=\", \".join([t.name for t in tools]),\n",
    "    regulation=regulation,\n",
    ")"
   ]
  },
  {
   "cell_type": "code",
   "execution_count": 21,
   "metadata": {},
   "outputs": [
    {
     "data": {
      "text/plain": [
       "ChatPromptTemplate(input_variables=['agent_scratchpad', 'input'], optional_variables=['chat_history'], input_types={'chat_history': list[typing.Annotated[typing.Union[typing.Annotated[langchain_core.messages.ai.AIMessage, Tag(tag='ai')], typing.Annotated[langchain_core.messages.human.HumanMessage, Tag(tag='human')], typing.Annotated[langchain_core.messages.chat.ChatMessage, Tag(tag='chat')], typing.Annotated[langchain_core.messages.system.SystemMessage, Tag(tag='system')], typing.Annotated[langchain_core.messages.function.FunctionMessage, Tag(tag='function')], typing.Annotated[langchain_core.messages.tool.ToolMessage, Tag(tag='tool')], typing.Annotated[langchain_core.messages.ai.AIMessageChunk, Tag(tag='AIMessageChunk')], typing.Annotated[langchain_core.messages.human.HumanMessageChunk, Tag(tag='HumanMessageChunk')], typing.Annotated[langchain_core.messages.chat.ChatMessageChunk, Tag(tag='ChatMessageChunk')], typing.Annotated[langchain_core.messages.system.SystemMessageChunk, Tag(tag='SystemMessageChunk')], typing.Annotated[langchain_core.messages.function.FunctionMessageChunk, Tag(tag='FunctionMessageChunk')], typing.Annotated[langchain_core.messages.tool.ToolMessageChunk, Tag(tag='ToolMessageChunk')]], FieldInfo(annotation=NoneType, required=True, discriminator=Discriminator(discriminator=<function _get_type at 0x00000264FD80A8E0>, custom_error_type=None, custom_error_message=None, custom_error_context=None))]]}, partial_variables={'chat_history': [], 'tools': \"show_analisys_to_user(**document) - Use this action to show to the user the Regulatory Impact Analysis Document, args: {'regulatory_summary': {'description': 'Regulatory summaty ', 'title': 'Regulatory Summary', 'type': 'object'}, 'impact_analysis': {'description': 'Impact Analysis', 'title': 'Impact Analysis', 'type': 'object'}, 'action_plan': {'description': 'Action plan ', 'title': 'Action Plan', 'type': 'object'}, 'final_recommendations': {'description': 'final recommendations ', 'title': 'Final Recommendations', 'type': 'object'}}\", 'tool_names': 'show_analisys_to_user', 'regulation': '12 U.S. Code § 4301 - Findings and purpose\\n(a)Findings\\nThe Congress hereby finds that economic stability would be enhanced, competition between depository institutions would be improved, and the ability of the consumer to make informed decisions regarding deposit accounts, and to verify accounts, would be strengthened if there was uniformity in the disclosure of terms and conditions on which interest is paid and fees are assessed in connection with such accounts.\\n\\n(b)Purpose\\nIt is the purpose of this chapter to require the clear and uniform disclosure of—\\n(1)the rates of interest which are payable on deposit accounts by depository institutions; and\\n(2)the fees that are assessable against deposit accounts,\\nso that consumers can make a meaningful comparison between the competing claims of depository institutions with regard to deposit accounts.\\n'}, messages=[SystemMessagePromptTemplate(prompt=PromptTemplate(input_variables=['regulation', 'tool_names', 'tools'], input_types={}, partial_variables={}, template='\\nYou are an advanced conversational AI assistant specialized in regulatory impact analysis for financial institutions. Your goal is to analyze new regulations, assess their impact, and generate structured compliance reports.  \\n\\nYou run in a loop of Thought, Action, PAUSE, Observation.\\nAt the end of the loop you output an Answer. \\nYou ALWAYS respond in a JSON blob.\\nUse Thought to describe your thoughts about the question you have been asked.\\nUse Action to run one of the actions available to you - then PAUSE and wait o be called again with observation.\\nObservation will be the result of running those actionsand will be return to you.\\n\\nYour available actions are:\\n{tools}\\n\\nValid \"action\" values are: \"Final Answer\" or {tool_names}. Use \"action\" value \"Final Answer\" to talk to the user.\\nProvide only ONE action per $JSON_BLOB, as shown:\\n```\\n{{\\n  \"action\": $TOOL_NAME,\\n  \"action_input\": $INPUT\\n}}\\n```\\nEND\\n\\nYou follow a dynamic and iterative process:\\n- Generate an initial regulatory impact analysis and show to use by the action \"show_analisys_to_user\".  \\n- Allow the user to refine or modify the analysis.\\n- Update and adjust documents in real-time based on user feedback.  \\n- Keep track of previous interactions to ensure consistency.  \\n\\nSTRICT RULES:\\n- The only Valid \"action\" values are: \"Final Answer\" or {tool_names}.\\n- You must NEVER pass the document by the action \"Final Answer\".\\n- After the document be shown to the user with succsess, tell tah user \"The document was shown with success\".\\n- Your final output should always be directly based on the Observation result.\\n- The document [Document] must always be passed as a dict objetc to \"action_input\".\\n- The \"action_input\" for the action \"Final Answer\" must be always a string.\\n- Always put a \"END\" and end of $JSON_BLOB.\\n- IMPORTANT: ALWAYS put the $JSON_BLOB between triple backticks.\\n- Always respond with a  $JSON_BLOB with format:\\n```\\n{{\\n  \"action\": $TOOL_NAME,\\n  \"action_input\": $INPUT\\n}}\\n```\\n\\nEND\\n\\n---\\n\\n### Step-by-Step Interaction Flow  \\n\\n1. Understanding the Regulation (Initial Analysis)  \\n- Read and summarize the regulatory document.  \\n- Extract key requirements and deadlines.  \\n- Identify the business areas impacted.  \\n\\n2. Impact Analysis & Risk Assessment \\n- Assess operational, financial, and legal risks.  \\n- Define process changes and RACI responsibilities.  \\n- Suggest mitigation strategies.  \\n\\n3. Show document created to the user, using the action \"show_analisys_to_user\".\\n\\n3. Interactive Document Editing (User Feedback & Adjustments)  \\n- The user can request modifications to any section.  \\n- You ask clarifying questions if needed.  \\n- All changes should be reflected dynamically in the generated documents, end exibiting with the action \"show_analisys_to_user\".  \\n\\n4. Action Plan & Report Generation\\n- Summarize the final analysis in a structured report.  \\n- Provide recommendations and next steps.  \\n- Ensure the final document aligns with compliance requirements.  \\n\\n---\\n\\n## Example Conversation Flow  \\n\\nUser: \"Analyze this new banking regulation and tell me which areas are impacted.\"  \\nAI: \"The new regulation requires changes in AML monitoring and reporting. Compliance, IT, and Risk are affected. Would you like a detailed breakdown?\"   \\nAction: The AI provides an initial structured analysis\\n```\\n{{\\n  \"action\": show_analisys_to_user,\\n  \"action_input\": [Document].\\n}}\\n```\\nEND\\n\\nUser: \"Generate a compliance report with these changes.\"  \\nAI: \"Here\\'s the updated compliance report. Let me know if you\\'d like any further modifications.\"   \\nAction: The final document is generated based on the user\\'s inputs.\\n```\\n{{\\n  \"action\": show_analisys_to_user,\\n  \"action_input\": [Document].\\n}}\\n```\\nEND\\n\\nObservation: The document was shown with success.\\nThought: The user has confirmed that the document was shown with success.\\n\\nAction: Final Answer\\n```\\n{{\\n  \"action\": \"Final Answer\",\\n  \"action_input\": \"Tell me if you need more help.\"\\n}}\\n```\\nEND\\n\\n---\\n\\n## Document Format Example \\n\\n**Document**\\nRegulatory Summary \\n- Regulation Title: [Name]  \\n- Key Requirements: [Summary]  \\n- Deadline: [Date]  \\n\\nImpact Analysis\\n- Impacted Areas: Compliance, IT, Risk, **Operations**  \\n- Required Changes: Update AML monitoring system, revise policies, retrain staff  \\n\\nAction Plan\\n- Task: Update reporting framework  \\n- Owner: Compliance Team  \\n- Deadline: 30 days  \\n- Status: Pending  \\n\\nFinal Recommendations  \\n- [List of actions required for full compliance]  \\n\\nEND\\n\\n## Analise the following banking regulation:\\n\\n{regulation}\\n\\n'), additional_kwargs={}), MessagesPlaceholder(variable_name='chat_history', optional=True), HumanMessagePromptTemplate(prompt=PromptTemplate(input_variables=['input'], input_types={}, partial_variables={}, template='<|start_of_role|>user<|end_of_role|>{input}<|end_of_text|>'), additional_kwargs={}), AIMessagePromptTemplate(prompt=PromptTemplate(input_variables=['agent_scratchpad'], input_types={}, partial_variables={}, template='<|start_of_role|>assistant<|end_of_role|>{agent_scratchpad}<|end_of_text|>'), additional_kwargs={})])"
      ]
     },
     "execution_count": 21,
     "metadata": {},
     "output_type": "execute_result"
    }
   ],
   "source": [
    "prompt"
   ]
  },
  {
   "cell_type": "markdown",
   "metadata": {},
   "source": [
    "### Defining chain"
   ]
  },
  {
   "cell_type": "code",
   "execution_count": 37,
   "metadata": {},
   "outputs": [],
   "source": [
    "memory = ConversationBufferMemory()\n",
    "\n",
    "chain = (\n",
    "    RunnablePassthrough.assign(\n",
    "        agent_scratchpad=lambda x: format_log_to_str(x[\"intermediate_steps\"]),\n",
    "        chat_history=lambda x: memory.chat_memory.messages,\n",
    "    )\n",
    "    | prompt\n",
    "    | watson_llm\n",
    "    | JSONAgentOutputParser()\n",
    ")\n",
    "\n",
    "agent_executor = AgentExecutor(\n",
    "    agent=chain, tools=tools, handle_parsing_errors=True, verbose=True, memory=memory, max_iterations= 3\n",
    ")"
   ]
  },
  {
   "cell_type": "code",
   "execution_count": 36,
   "metadata": {},
   "outputs": [],
   "source": [
    "memory.clear()"
   ]
  },
  {
   "cell_type": "code",
   "execution_count": 38,
   "metadata": {},
   "outputs": [
    {
     "name": "stdout",
     "output_type": "stream",
     "text": [
      "\n",
      "\n",
      "\u001b[1m> Entering new AgentExecutor chain...\u001b[0m\n",
      "\u001b[32;1m\u001b[1;3m\n",
      "{\n",
      "  \"action\": \"show_analisys_to_user\",\n",
      "  \"action_input\": {\n",
      "    \"regulatory_summary\": {\n",
      "      \"description\": \"The Congress finds that uniformity in disclosure of interest rates and fees on deposit accounts enhances economic stability, improves competition, and strengthens consumer decision-making.\",\n",
      "      \"title\": \"Regulatory Summary\",\n",
      "      \"type\": \"object\"\n",
      "    },\n",
      "    \"impact_analysis\": {\n",
      "      \"description\": \"The regulation impacts Compliance, IT, and Operations departments. Required changes include updating disclosure policies, systems, and staff training.\",\n",
      "      \"title\": \"Impact Analysis\",\n",
      "      \"type\": \"object\"\n",
      "    },\n",
      "    \"action_plan\": {\n",
      "      \"description\": \"Task: Update disclosure policies and systems. Owner: Compliance Team. Deadline: 6 months. Status: Pending.\",\n",
      "      \"title\": \"Action Plan\",\n",
      "      \"type\": \"object\"\n",
      "    },\n",
      "    \"final_recommendations\": {\n",
      "      \"description\": \"1. Review and update disclosure policies. 2. Implement new systems for clear and uniform disclosure. 3. Train staff on new policies and systems.\",\n",
      "      \"title\": \"Final Recommendations\",\n",
      "      \"type\": \"object\"\n",
      "    }\n",
      "  }\n",
      "}\n",
      "\n",
      "END\u001b[0mMostrando DOC-----------\n",
      " {'regulatory_summary': {'description': 'The Congress finds that uniformity in disclosure of interest rates and fees on deposit accounts enhances economic stability, improves competition, and strengthens consumer decision-making.', 'title': 'Regulatory Summary', 'type': 'object'}, 'impact_analysis': {'description': 'The regulation impacts Compliance, IT, and Operations departments. Required changes include updating disclosure policies, systems, and staff training.', 'title': 'Impact Analysis', 'type': 'object'}, 'action_plan': {'description': 'Task: Update disclosure policies and systems. Owner: Compliance Team. Deadline: 6 months. Status: Pending.', 'title': 'Action Plan', 'type': 'object'}, 'final_recommendations': {'description': '1. Review and update disclosure policies. 2. Implement new systems for clear and uniform disclosure. 3. Train staff on new policies and systems.', 'title': 'Final Recommendations', 'type': 'object'}}\n",
      "\u001b[36;1m\u001b[1;3mThe document was shown with success.\u001b[0m\u001b[32;1m\u001b[1;3m\n",
      "The user has reviewed the initial regulatory impact analysis.\n",
      "\n",
      "Action: Final Answer\n",
      "```\n",
      "{\n",
      "  \"action\": \"Final Answer\",\n",
      "  \"action_input\": \"Do you need further assistance with this regulation?\"\n",
      "}\n",
      "```\n",
      "END\u001b[0m\n",
      "\n",
      "\u001b[1m> Finished chain.\u001b[0m\n"
     ]
    }
   ],
   "source": [
    "result = agent_executor.invoke({\"input\":\"\"})"
   ]
  },
  {
   "cell_type": "code",
   "execution_count": 39,
   "metadata": {},
   "outputs": [
    {
     "data": {
      "text/plain": [
       "{'input': '',\n",
       " 'history': '',\n",
       " 'output': 'Do you need further assistance with this regulation?'}"
      ]
     },
     "execution_count": 39,
     "metadata": {},
     "output_type": "execute_result"
    }
   ],
   "source": [
    "result"
   ]
  },
  {
   "cell_type": "code",
   "execution_count": 40,
   "metadata": {},
   "outputs": [
    {
     "name": "stdout",
     "output_type": "stream",
     "text": [
      "\n",
      "\n",
      "\u001b[1m> Entering new AgentExecutor chain...\u001b[0m\n",
      "\u001b[32;1m\u001b[1;3m{\n",
      "  \"action\": \"show_analisys_to_user\",\n",
      "  \"action_input\": {\n",
      "    \"regulatory_summary\": {\n",
      "      \"description\": \"The Congress finds that uniformity in disclosure of interest rates and fees on deposit accounts enhances economic stability, improves competition, and strengthens consumer decision-making.\",\n",
      "      \"title\": \"Regulatory Summary\",\n",
      "      \"type\": \"object\"\n",
      "    },\n",
      "    \"impact_analysis\": {\n",
      "      \"description\": \"The regulation impacts Compliance, IT, and Risk departments. Operations may also be involved in updating disclosure practices and training staff.\",\n",
      "      \"title\": \"Impact Analysis\",\n",
      "      \"type\": \"object\"\n",
      "    },\n",
      "    \"action_plan\": {\n",
      "      \"description\": \"Task: Update disclosure practices and staff training. Owner: Compliance Team. Deadline: 90 days. Status: Pending.\",\n",
      "      \"title\": \"Action Plan\",\n",
      "      \"type\": \"object\"\n",
      "    },\n",
      "    \"final_recommendations\": {\n",
      "      \"description\": \"1. Update disclosure practices to ensure uniformity in interest rates and fees. 2. Train staff on new disclosure requirements. 3. Review and update relevant policies and procedures. 4. Engage Operations to assist in implementing changes and monitoring compliance.\",\n",
      "      \"title\": \"Final Recommendations\",\n",
      "      \"type\": \"object\"\n",
      "    }\n",
      "  }\n",
      "}\n",
      "\n",
      "Observation:\u001b[0mMostrando DOC-----------\n",
      " {'regulatory_summary': {'description': 'The Congress finds that uniformity in disclosure of interest rates and fees on deposit accounts enhances economic stability, improves competition, and strengthens consumer decision-making.', 'title': 'Regulatory Summary', 'type': 'object'}, 'impact_analysis': {'description': 'The regulation impacts Compliance, IT, and Risk departments. Operations may also be involved in updating disclosure practices and training staff.', 'title': 'Impact Analysis', 'type': 'object'}, 'action_plan': {'description': 'Task: Update disclosure practices and staff training. Owner: Compliance Team. Deadline: 90 days. Status: Pending.', 'title': 'Action Plan', 'type': 'object'}, 'final_recommendations': {'description': '1. Update disclosure practices to ensure uniformity in interest rates and fees. 2. Train staff on new disclosure requirements. 3. Review and update relevant policies and procedures. 4. Engage Operations to assist in implementing changes and monitoring compliance.', 'title': 'Final Recommendations', 'type': 'object'}}\n",
      "\u001b[36;1m\u001b[1;3mThe document was shown with success.\u001b[0m\u001b[32;1m\u001b[1;3m\n",
      "Action: Final Answer\n",
      "```\n",
      "{\n",
      "  \"action\": \"Final Answer\",\n",
      "  \"action_input\": \"The Operations department should be involved in implementing changes and monitoring compliance with the new disclosure requirements.\"\n",
      "}\n",
      "```\n",
      "END\u001b[0m\n",
      "\n",
      "\u001b[1m> Finished chain.\u001b[0m\n"
     ]
    }
   ],
   "source": [
    "result = agent_executor.invoke({\"input\":\"I need more recomendation. It's needed to envolve Operations?\"})"
   ]
  },
  {
   "cell_type": "code",
   "execution_count": 41,
   "metadata": {},
   "outputs": [
    {
     "data": {
      "text/plain": [
       "{'input': \"I need more recomendation. It's needed to envolve Operations?\",\n",
       " 'history': 'Human: \\nAI: Do you need further assistance with this regulation?',\n",
       " 'output': 'The Operations department should be involved in implementing changes and monitoring compliance with the new disclosure requirements.'}"
      ]
     },
     "execution_count": 41,
     "metadata": {},
     "output_type": "execute_result"
    }
   ],
   "source": [
    "result"
   ]
  },
  {
   "cell_type": "code",
   "execution_count": 42,
   "metadata": {},
   "outputs": [
    {
     "name": "stdout",
     "output_type": "stream",
     "text": [
      "\n",
      "\n",
      "\u001b[1m> Entering new AgentExecutor chain...\u001b[0m\n",
      "\u001b[32;1m\u001b[1;3m```\n",
      "{\n",
      "  \"action\": \"show_analisys_to_user\",\n",
      "  \"action_input\": {\n",
      "    \"regulatory_summary\": {\n",
      "      \"description\": \"The Congress finds that uniformity in disclosure of interest rates and fees on deposit accounts enhances economic stability, improves competition, and strengthens consumer decision-making.\",\n",
      "      \"title\": \"Regulatory Summary\",\n",
      "      \"type\": \"object\"\n",
      "    },\n",
      "    \"impact_analysis\": {\n",
      "      \"description\": \"The Operations department should be involved in implementing changes and monitoring compliance with the new disclosure requirements.\",\n",
      "      \"title\": \"Impact Analysis\",\n",
      "      \"type\": \"object\"\n",
      "    },\n",
      "    \"action_plan\": {\n",
      "      \"description\": \"No specific tasks or deadlines are mentioned in the regulation. However, the Operations department should be prepared to implement changes and monitor compliance.\",\n",
      "      \"title\": \"Action Plan\",\n",
      "      \"type\": \"object\"\n",
      "    },\n",
      "    \"final_recommendations\": {\n",
      "      \"description\": \"The Operations department should be involved in implementing changes and monitoring compliance with the new disclosure requirements.\",\n",
      "      \"title\": \"Final Recommendations\",\n",
      "      \"type\": \"object\"\n",
      "    }\n",
      "  }\n",
      "}\n",
      "```\n",
      "\n",
      "Observation:\u001b[0mMostrando DOC-----------\n",
      " {'regulatory_summary': {'description': 'The Congress finds that uniformity in disclosure of interest rates and fees on deposit accounts enhances economic stability, improves competition, and strengthens consumer decision-making.', 'title': 'Regulatory Summary', 'type': 'object'}, 'impact_analysis': {'description': 'The Operations department should be involved in implementing changes and monitoring compliance with the new disclosure requirements.', 'title': 'Impact Analysis', 'type': 'object'}, 'action_plan': {'description': 'No specific tasks or deadlines are mentioned in the regulation. However, the Operations department should be prepared to implement changes and monitor compliance.', 'title': 'Action Plan', 'type': 'object'}, 'final_recommendations': {'description': 'The Operations department should be involved in implementing changes and monitoring compliance with the new disclosure requirements.', 'title': 'Final Recommendations', 'type': 'object'}}\n",
      "\u001b[36;1m\u001b[1;3mThe document was shown with success.\u001b[0m\u001b[32;1m\u001b[1;3m\n",
      "Action: Final Answer\n",
      "```\n",
      "{\n",
      "  \"action\": \"Final Answer\",\n",
      "  \"action_input\": \"Is there anything else you would like to know about this regulation?\"\n",
      "}\n",
      "```\n",
      "END\u001b[0m\n",
      "\n",
      "\u001b[1m> Finished chain.\u001b[0m\n"
     ]
    }
   ],
   "source": [
    "result = agent_executor.invoke({\"input\":\"OK. Thanks for the analisys!\"})"
   ]
  },
  {
   "cell_type": "code",
   "execution_count": 43,
   "metadata": {},
   "outputs": [
    {
     "data": {
      "text/plain": [
       "{'input': 'OK. Thanks for the analisys!',\n",
       " 'history': \"Human: \\nAI: Do you need further assistance with this regulation?\\nHuman: I need more recomendation. It's needed to envolve Operations?\\nAI: The Operations department should be involved in implementing changes and monitoring compliance with the new disclosure requirements.\",\n",
       " 'output': 'Is there anything else you would like to know about this regulation?'}"
      ]
     },
     "execution_count": 43,
     "metadata": {},
     "output_type": "execute_result"
    }
   ],
   "source": [
    "result"
   ]
  },
  {
   "cell_type": "code",
   "execution_count": 46,
   "metadata": {},
   "outputs": [
    {
     "name": "stdout",
     "output_type": "stream",
     "text": [
      "\n",
      "\n",
      "\u001b[1m> Entering new AgentExecutor chain...\u001b[0m\n",
      "\u001b[32;1m\u001b[1;3m{\n",
      "  \"action\": \"Final Answer\",\n",
      "  \"action_input\": \"The Operations department should be involved in implementing changes and monitoring compliance with the new disclosure requirements. No further assistance is needed.\"\n",
      "}\n",
      "\n",
      "END\u001b[0m\n",
      "\n",
      "\u001b[1m> Finished chain.\u001b[0m\n"
     ]
    }
   ],
   "source": [
    "result = agent_executor.invoke({\"input\":\"No, thanks.\"})"
   ]
  },
  {
   "cell_type": "code",
   "execution_count": 47,
   "metadata": {},
   "outputs": [
    {
     "data": {
      "text/plain": [
       "{'input': 'No, thanks.',\n",
       " 'history': \"Human: \\nAI: Do you need further assistance with this regulation?\\nHuman: I need more recomendation. It's needed to envolve Operations?\\nAI: The Operations department should be involved in implementing changes and monitoring compliance with the new disclosure requirements.\\nHuman: OK. Thanks for the analisys!\\nAI: Is there anything else you would like to know about this regulation?\\nHuman: No, thanks.\\nAI: The Operations department should be involved in implementing changes and monitoring compliance with the new disclosure requirements. Is there anything else you would like to know about this regulation?\",\n",
       " 'output': 'The Operations department should be involved in implementing changes and monitoring compliance with the new disclosure requirements. No further assistance is needed.'}"
      ]
     },
     "execution_count": 47,
     "metadata": {},
     "output_type": "execute_result"
    }
   ],
   "source": [
    "result"
   ]
  }
 ],
 "metadata": {
  "kernelspec": {
   "display_name": "myenv",
   "language": "python",
   "name": "python3"
  },
  "language_info": {
   "codemirror_mode": {
    "name": "ipython",
    "version": 3
   },
   "file_extension": ".py",
   "mimetype": "text/x-python",
   "name": "python",
   "nbconvert_exporter": "python",
   "pygments_lexer": "ipython3",
   "version": "3.11.3"
  }
 },
 "nbformat": 4,
 "nbformat_minor": 2
}
