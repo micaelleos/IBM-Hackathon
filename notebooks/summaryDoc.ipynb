{
 "cells": [
  {
   "cell_type": "code",
   "execution_count": null,
   "metadata": {},
   "outputs": [],
   "source": [
    "from langchain_ibm import WatsonxLLM\n",
    "from ibm_granite_community.notebook_utils import get_env_var\n",
    "from dotenv import load_dotenv\n",
    "load_dotenv()"
   ]
  },
  {
   "cell_type": "code",
   "execution_count": null,
   "metadata": {},
   "outputs": [],
   "source": [
    "        \n",
    "ibm_cloud_api_key = get_env_var('WATSONX_APIKEY')\n",
    "project_id = get_env_var('WATSONX_PROJECT_ID')\n",
    "watson_url = get_env_var('WATSONX_URL')\n",
    "\n",
    "watson_llm = WatsonxLLM(\n",
    "    model_id=\"ibm/granite-3-8b-instruct\",\n",
    "    apikey=ibm_cloud_api_key,\n",
    "    project_id=project_id,\n",
    "    params={\n",
    "        \"decoding_method\": \"greedy\",\n",
    "        \"max_new_tokens\": 2000,\n",
    "        \"min_new_tokens\": 1,\n",
    "        \"repetition_penalty\": 1,\n",
    "        \"temperature\":0.8,\n",
    "        \"stop_sequences\" : [\"END\",\"Observation:\",\"PAUSE\"]\n",
    "    },\n",
    "    url=watson_url,\n",
    ")\n"
   ]
  },
  {
   "cell_type": "code",
   "execution_count": null,
   "metadata": {},
   "outputs": [],
   "source": [
    "chain = prompt | watson_llm\n",
    "    "
   ]
  }
 ],
 "metadata": {
  "kernelspec": {
   "display_name": "myenv",
   "language": "python",
   "name": "python3"
  },
  "language_info": {
   "name": "python",
   "version": "3.11.3"
  }
 },
 "nbformat": 4,
 "nbformat_minor": 2
}
